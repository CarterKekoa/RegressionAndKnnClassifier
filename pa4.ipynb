{
 "metadata": {
  "language_info": {
   "codemirror_mode": {
    "name": "ipython",
    "version": 3
   },
   "file_extension": ".py",
   "mimetype": "text/x-python",
   "name": "python",
   "nbconvert_exporter": "python",
   "pygments_lexer": "ipython3",
   "version": "3.8.5-final"
  },
  "orig_nbformat": 2,
  "kernelspec": {
   "name": "python3",
   "display_name": "Python 3",
   "language": "python"
  }
 },
 "nbformat": 4,
 "nbformat_minor": 2,
 "cells": [
  {
   "cell_type": "code",
   "execution_count": 40,
   "metadata": {},
   "outputs": [
    {
     "output_type": "error",
     "ename": "ModuleNotFoundError",
     "evalue": "No module named 'jupyter_utils'",
     "traceback": [
      "\u001b[0;31m---------------------------------------------------------------------------\u001b[0m",
      "\u001b[0;31mModuleNotFoundError\u001b[0m                       Traceback (most recent call last)",
      "\u001b[0;32m<ipython-input-40-a8027a0cd9ac>\u001b[0m in \u001b[0;36m<module>\u001b[0;34m\u001b[0m\n\u001b[1;32m     18\u001b[0m \u001b[0;32mimport\u001b[0m \u001b[0mmysklearn\u001b[0m\u001b[0;34m.\u001b[0m\u001b[0mmyevaluation\u001b[0m \u001b[0;32mas\u001b[0m \u001b[0mmyevaluation\u001b[0m\u001b[0;34m\u001b[0m\u001b[0;34m\u001b[0m\u001b[0m\n\u001b[1;32m     19\u001b[0m \u001b[0;34m\u001b[0m\u001b[0m\n\u001b[0;32m---> 20\u001b[0;31m \u001b[0;32mimport\u001b[0m \u001b[0mjupyter_utils\u001b[0m\u001b[0;34m\u001b[0m\u001b[0;34m\u001b[0m\u001b[0m\n\u001b[0m\u001b[1;32m     21\u001b[0m \u001b[0mimportlib\u001b[0m\u001b[0;34m.\u001b[0m\u001b[0mreload\u001b[0m\u001b[0;34m(\u001b[0m\u001b[0mjupyter_utils\u001b[0m\u001b[0;34m)\u001b[0m\u001b[0;34m\u001b[0m\u001b[0;34m\u001b[0m\u001b[0m\n",
      "\u001b[0;31mModuleNotFoundError\u001b[0m: No module named 'jupyter_utils'"
     ]
    }
   ],
   "source": [
    "\n",
    "# some useful mysklearn package import statements and reloads\n",
    "import importlib\n",
    "\n",
    "import mysklearn.myutils\n",
    "importlib.reload(mysklearn.myutils)\n",
    "import mysklearn.myutils as myutils\n",
    "\n",
    "import mysklearn.mypytable\n",
    "importlib.reload(mysklearn.mypytable)\n",
    "from mysklearn.mypytable import MyPyTable \n",
    "\n",
    "import mysklearn.myclassifiers\n",
    "importlib.reload(mysklearn.myclassifiers)\n",
    "from mysklearn.myclassifiers import MyKNeighborsClassifier, MySimpleLinearRegressor\n",
    "\n",
    "import mysklearn.myevaluation\n",
    "importlib.reload(mysklearn.myevaluation)\n",
    "import mysklearn.myevaluation as myevaluation\n",
    "\n",
    "import jupyter_utils\n",
    "importlib.reload(jupyter_utils)"
   ]
  },
  {
   "source": [
    "# PA4 Simple Classifiers\n",
    "## Part 2: Auto Dataset Classification  \n",
    "Write a Jupyter Notebook (pa4.ipynb) that uses your mysklearn package to build simple classifiers for the \"pre-processed\" automobile dataset (auto-data-removed-NA.txt) you created for PA2. In the Notebook, describe the steps, log any assumptions and/or issues you had in doing the steps, and provide insights on the step results. All re-usable utility functions should be separate from your Notebook in an appropriate module.\n",
    "\n",
    "### Step 1 Train/Test Sets: Random Instances and Linear Regression  \n",
    "Create a classifier that predicts mpg values using (least squares) linear regression based on vehicle weight. Your classifier should take one or more instances, compute the predicted MPG values, and then map these to the DOE classification/ranking (given in PA3) for each corresponding instance. Test your classifier by selecting 5 random instances from the dataset, predict their corresponding mpg ranking, and then show their actual mpg ranking as follows:\n",
    "\n",
    "* Changes:\n",
    "    * I had an issue with using fit() on two different lists, one has nested list values and one was a list of values. I had to add to the fit() function to account for this issue. \n",
    "\n"
   ],
   "cell_type": "markdown",
   "metadata": {}
  },
  {
   "cell_type": "code",
   "execution_count": 33,
   "metadata": {},
   "outputs": [
    {
     "output_type": "stream",
     "name": "stdout",
     "text": [
      "fit\n===========================================\nSTEP 1: Linear Regression MPG Classifier\n===========================================\ninstance: [27.2, 4.0, 141.0, 71.0, 3190.0, 24.8, 79.0, 2.0, 'peugeot 504', 8040.0]\nclass: 5 actual:  7\ninstance: [15.0, 8.0, 350.0, 145.0, 4082.0, 13.0, 73.0, 1.0, 'chevrolet monte carlo s', 3562.0]\nclass: 3 actual:  3\ninstance: [15.5, 8.0, 350.0, 170.0, 4165.0, 11.4, 77.0, 1.0, 'chevrolet monte carlo landau', 4968.0]\nclass: 2 actual:  3\ninstance: [14.0, 8.0, 455.0, 225.0, 4425.0, 10.0, 70.0, 1.0, 'pontiac catalina', 3164.0]\nclass: 1 actual:  2\ninstance: [14.0, 8.0, 400.0, 175.0, 4464.0, 11.5, 71.0, 1.0, 'pontiac catalina brougham', 4154.0]\nclass: 1 actual:  2\n"
     ]
    }
   ],
   "source": [
    "import os\n",
    "import random\n",
    "\n",
    "fname = os.path.join(\"input_data\", \"auto-data-removed-NA.txt\")\n",
    "auto_data = MyPyTable().load_from_file(fname)\n",
    "auto_data.remove_rows_with_missing_values()\n",
    "\n",
    "weight = auto_data.get_column('weight')\n",
    "weight = [[val] for val in weight]\n",
    "a, b, c, d = myevaluation.train_test_split(weight, auto_data.get_column('mpg'), shuffle=True)\n",
    "\n",
    "myline = MySimpleLinearRegressor()\n",
    "myline.fit(a,c)\n",
    "\n",
    "rand_rows = jupyter_utils.get_rand_rows(auto_data, 5)\n",
    "print('===========================================\\n\\\n",
    "STEP 1: Linear Regression MPG Classifier\\n\\\n",
    "===========================================')\n",
    "for row in rand_rows:\n",
    "    print('instance:', row)\n",
    "    print('class:', jupyter_utils.get_rating(myline.predict([[row[4]]])[0]), 'actual: ', juputils.get_rating(row[0]))"
   ]
  },
  {
   "source": [
    "### Step 2 Train/Test Sets: Random Instances and kNN  \n",
    "Create a nearest neighbor classifier for mpg that uses the number of cylinders, weight, and acceleration attributes to predict mpg for k = 5. Be sure to normalize the three attribute values and also use the Euclidean distance metric. Similar to Step 1, test your classifier by selecting 5 random instances from the dataset, predict their corresponding mpg ranking, and then show their actual mpg ranking:\n",
    "\n"
   ],
   "cell_type": "markdown",
   "metadata": {}
  },
  {
   "cell_type": "code",
   "execution_count": 34,
   "metadata": {},
   "outputs": [
    {
     "output_type": "stream",
     "name": "stdout",
     "text": [
      "\n===========================================\nSTEP 2: k=5 Nearest Neighbor MPG Classifier\n===========================================\ninstance: [13.0, 8.0, 400.0, 170.0, 4746.0, 12.0, 71.0, 1.0, 'ford country squire (sw)', 4074.0]\nclass: 7 actual:  1\ninstance: [20.0, 4.0, 140.0, 90.0, 2408.0, 19.5, 72.0, 1.0, 'chevrolet vega', 2160.0]\nclass: 2 actual:  5\ninstance: [19.0, 6.0, 250.0, 100.0, 3282.0, 15.0, 71.0, 1.0, 'pontiac firebird', 3168.0]\nclass: 6 actual:  4\ninstance: [26.0, 4.0, 97.0, 78.0, 2300.0, 14.5, 74.0, 2.0, 'opel manta', 3275.0]\nclass: 2 actual:  6\ninstance: [14.0, 8.0, 350.0, 165.0, 4209.0, 12.0, 71.0, 1.0, 'chevrolet impala', 3813.0]\nclass: 2 actual:  2\n"
     ]
    }
   ],
   "source": [
    "print('\\n===========================================\\n\\\n",
    "STEP 2: k=5 Nearest Neighbor MPG Classifier\\n\\\n",
    "===========================================')\n",
    "myk = MyKNeighborsClassifier(5)\n",
    "\n",
    "weight = auto_data.get_column('weight')\n",
    "cylinders = auto_data.get_column('cylinders')\n",
    "acceleration = auto_data.get_column('acceleration')\n",
    "\n",
    "x_vals = [[weight[i], cylinders[i],acceleration[i]] for i in range(len(weight))]\n",
    "scaled_x, _ = myutils.scale(x_vals, [[]])\n",
    "\n",
    "a, b, c, d = myevaluation.train_test_split(scaled_x, auto_data.get_column('mpg'), shuffle=True)\n",
    "\n",
    "myk.fit(a,auto_data.get_column('mpg'))\n",
    "\n",
    "rand_rows = jupyter_utils.get_rand_rows(auto_data, 5)\n",
    "for row in rand_rows:\n",
    "    print('instance:', row)\n",
    "    _, scaled_test = myutils.scale(x_vals, [[row[4],row[1],row[5]]])\n",
    "    print('class:', jupyter_utils.get_rating(myk.predict(scaled_test)[0]), 'actual: ', juputils.get_rating(row[0]))"
   ]
  },
  {
   "source": [
    "### Step 3 Train/Test Sets: Random Sub-sampling\n",
    "Compute the predictive accuracy and error rate of the two classifiers using random sub-sampling with k = 10. Your output should look something like this (where the ??'s should be replaced by actual values):\n",
    "\n"
   ],
   "cell_type": "markdown",
   "metadata": {}
  },
  {
   "cell_type": "code",
   "execution_count": 35,
   "metadata": {},
   "outputs": [
    {
     "output_type": "stream",
     "name": "stdout",
     "text": [
      "\n===========================================\nSTEP 3: Predictive Accuracy\n===========================================\nRandom Subsample (k=10, 2:1 Train/Test)\nfit\nLinear Regression: accuracy =  0.37209302325581395 error rate = 0.627906976744186\nK Nearest Neighbors: accuracy =  0.20930232558139536 error rate = 0.7906976744186046\n"
     ]
    }
   ],
   "source": [
    "print('\\n===========================================\\n\\\n",
    "STEP 3: Predictive Accuracy\\n\\\n",
    "===========================================\\n\\\n",
    "Random Subsample (k=10, 2:1 Train/Test)')\n",
    "auto_data = MyPyTable().load_from_file(fname)\n",
    "auto_data.remove_rows_with_missing_values()\n",
    "\n",
    "weight = auto_data.get_column('weight')\n",
    "weight = [[val] for val in weight]\n",
    "a, b, c, d = myevaluation.train_test_split(weight, auto_data.get_column('mpg'), shuffle=True)\n",
    "\n",
    "myline = MySimpleLinearRegressor()\n",
    "myline.fit(a,c)\n",
    "predicted = myline.predict(b)\n",
    "predicted = [jupyter_utils.get_rating(val) for val in predicted]\n",
    "expected = [jupyter_utils.get_rating(val) for val in d]\n",
    "correct = 0\n",
    "for i in range(len(predicted)):\n",
    "    if predicted[i] == expected[i]:\n",
    "        correct += 1\n",
    "print('Linear Regression: accuracy = ', correct/len(predicted), 'error rate =', 1-correct/len(predicted))\n",
    "\n",
    "weight = auto_data.get_column('weight')\n",
    "cylinders = auto_data.get_column('cylinders')\n",
    "acceleration = auto_data.get_column('acceleration')\n",
    "\n",
    "x_vals = [[weight[i], cylinders[i],acceleration[i]] for i in range(len(weight))]\n",
    "scaled_x, _ = myutils.scale(x_vals, [[]])\n",
    "\n",
    "a, b, c, d = myevaluation.train_test_split(scaled_x, auto_data.get_column('mpg'), shuffle=True)\n",
    "myk = MyKNeighborsClassifier(10)\n",
    "myk.fit(a,c)\n",
    "\n",
    "predicted = myk.predict(b)\n",
    "predicted = [jupyter_utils.get_rating(val) for val in predicted]\n",
    "expected = [jupyter_utils.get_rating(val) for val in d]\n",
    "correct = 0\n",
    "for i in range(len(predicted)):\n",
    "    if predicted[i] == expected[i]:\n",
    "        correct += 1\n",
    "print('K Nearest Neighbors: accuracy = ', correct/len(predicted), 'error rate =', 1-correct/len(predicted))"
   ]
  },
  {
   "source": [
    "### Step 4 Train/Test Sets: Cross Validation\n",
    "Compute the predictive accuracy and error rate of the two classifiers using separate training and test sets. You should use mpg rankings for both k-fold cross validation and stratified k-fold cross validation with k = 10. Your output should look something like this (where the ??'s should be replaced by actual values):"
   ],
   "cell_type": "markdown",
   "metadata": {}
  },
  {
   "cell_type": "code",
   "execution_count": 38,
   "metadata": {},
   "outputs": [
    {
     "output_type": "stream",
     "name": "stdout",
     "text": [
      "\n",
      "===========================================\n",
      "STEP 4: Predictive Accuracy\n",
      "===========================================\n",
      "10-Fold Cross Validation\n",
      "fit\n",
      "Linear Regression: accuracy = 0.8185328185328186 error rate = 0.18146718146718144\n",
      "K Nearest Neighbors: accuracy = 0.528957528957529 error rate = 0.471042471042471\n",
      "fit\n",
      "\n",
      "Stratified 10-Fold Cross Validation\n",
      "Linear Regression: accuracy = 0.3166023166023166 error rate = 0.6833976833976834\n",
      "K Nearest Neighbors: accuracy = 0.14671814671814673 error rate = 0.8532818532818532\n"
     ]
    }
   ],
   "source": [
    "importlib.reload(mysklearn.myclassifiers)\n",
    "importlib.reload(mysklearn.myevaluation)\n",
    "importlib.reload(mysklearn.myutils)\n",
    "\n",
    "print('\\n===========================================\\n\\\n",
    "STEP 4: Predictive Accuracy\\n\\\n",
    "===========================================\\n\\\n",
    "10-Fold Cross Validation')\n",
    "weight = [[val] for val in auto_data.get_column('weight')]\n",
    "train_folds, test_folds = myevaluation.kfold_cross_validation(weight, 10)\n",
    "X_train = []\n",
    "y_train = []\n",
    "\n",
    "y = [jupyter_utils.get_rating(val) for val in auto_data.get_column('mpg')]\n",
    "\n",
    "\n",
    "X_train, y_train, X_test, y_test = myutils.get_from_folds(weight, y, train_folds, test_folds)\n",
    "\n",
    "myline = MySimpleLinearRegressor()\n",
    "myline.fit(X_train,y_train)\n",
    "\n",
    "predicted_linear = [round(val) for val in myline.predict(X_test)]\n",
    "actual_linear = y_test\n",
    "\n",
    "count = jupyter_utils.count_correct(predicted_linear, y_test)\n",
    "print('Linear Regression: accuracy =', count/len(predicted_linear), 'error rate =', 1 - count/len(predicted_linear))\n",
    "\n",
    "weight = auto_data.get_column('weight')\n",
    "cylinders = auto_data.get_column('cylinders')\n",
    "acceleration = auto_data.get_column('acceleration')\n",
    "\n",
    "x_vals = [[weight[i], cylinders[i],acceleration[i]] for i in range(len(weight))]\n",
    "scaled_x, _ = myutils.scale(x_vals, [[]])\n",
    "\n",
    "train_folds, test_folds = myevaluation.kfold_cross_validation(scaled_x, 10)\n",
    "y = [jupyter_utils.get_rating(val) for val in auto_data.get_column('mpg')]\n",
    "\n",
    "X_train, y_train, X_test, y_test = myutils.get_from_folds(scaled_x, y, train_folds, test_folds)\n",
    "\n",
    "myk = MyKNeighborsClassifier(10)\n",
    "myk.fit(X_train,y_train)\n",
    "\n",
    "predicted_neighbors = myk.predict(X_test)\n",
    "actual_neighbors = y_test\n",
    "\n",
    "count = jupyter_utils.count_correct(predicted_neighbors, y_test)\n",
    "\n",
    "print('K Nearest Neighbors: accuracy =', count/len(predicted_neighbors), 'error rate =', 1 - count/len(predicted_neighbors))\n",
    "\n",
    "weight = [[val] for val in auto_data.get_column('weight')]\n",
    "y = [jupyter_utils.get_rating(val) for val in auto_data.get_column('mpg')]\n",
    "train_folds, test_folds = myevaluation.stratified_kfold_cross_validation(weight, y, 10)\n",
    "X_train = []\n",
    "y_train = []\n",
    "\n",
    "y = [jupyter_utils.get_rating(val) for val in auto_data.get_column('mpg')]\n",
    "\n",
    "\n",
    "X_train, y_train, X_test, y_test = myutils.get_from_folds(weight, y, train_folds, test_folds)\n",
    "\n",
    "myline = MySimpleLinearRegressor()\n",
    "myline.fit(X_train,y_train)\n",
    "\n",
    "predicted_linear_stratified = [round(val) for val in myline.predict(X_test)]\n",
    "actual_linear_stratified = y_test\n",
    "\n",
    "count = jupyter_utils.count_correct(predicted_linear_stratified, y_test)\n",
    "print('\\nStratified 10-Fold Cross Validation\\nLinear Regression: accuracy =', count/len(predicted_linear_stratified), 'error rate =', 1 - count/len(predicted_linear_stratified))\n",
    "\n",
    "weight = auto_data.get_column('weight')\n",
    "cylinders = auto_data.get_column('cylinders')\n",
    "acceleration = auto_data.get_column('acceleration')\n",
    "\n",
    "x_vals = [[weight[i], cylinders[i],acceleration[i]] for i in range(len(weight))]\n",
    "scaled_x, _ = myutils.scale(x_vals, [[]])\n",
    "\n",
    "y = [jupyter_utils.get_rating(val) for val in auto_data.get_column('mpg')]\n",
    "train_folds, test_folds = myevaluation.stratified_kfold_cross_validation(scaled_x, y, 10)\n",
    "\n",
    "X_train, y_train, X_test, y_test = myutils.get_from_folds(scaled_x, y, train_folds, test_folds)\n",
    "\n",
    "myk = MyKNeighborsClassifier(10)\n",
    "myk.fit(X_train,y_train)\n",
    "\n",
    "predicted_neighbors_stratified = myk.predict(X_test)\n",
    "actual_neighbors_stratified = y_test\n",
    "\n",
    "count = jupyter_utils.count_correct(predicted_neighbors_stratified, y_test)\n",
    "\n",
    "print('K Nearest Neighbors: accuracy =', count/len(predicted_neighbors_stratified), 'error rate =', 1 - count/len(predicted_neighbors_stratified))"
   ]
  },
  {
   "source": [
    "### Step 5 Confusion Matrices  \n",
    "Create confusion matrices for each classifier based on the stratified 10-fold cross validation results. You can use the tabulate package to display your confusion matrices (it is also okay to format the table manually). Here is an example:\n",
    "\n",
    "\n"
   ],
   "cell_type": "markdown",
   "metadata": {}
  },
  {
   "cell_type": "code",
   "execution_count": 39,
   "metadata": {},
   "outputs": [
    {
     "output_type": "stream",
     "name": "stdout",
     "text": [
      "\n===========================================\nSTEP 5: Confusion Matrices\n===========================================\n\nLinear Regression (Stratified 10-fold Cross Validation Results)\n=====  ===  ===  ===  ===  ===  ===  ===  ===  ===  ====  =======  =================\n  MPG    1    2    3    4    5    6    7    8    9    10    Total    Recognition (%)\n=====  ===  ===  ===  ===  ===  ===  ===  ===  ===  ====  =======  =================\n    1    8   10    8    0    1    0    0    0    0     0       28              28.57\n    2    2    9    4    0    1    0    0    0    0     0       18              50\n    3    1   14   12    8    1    0    0    0    0     0       39              30.77\n    4    0    1   11   25   11    2    1    0    0     0       55              45.45\n    5    0    0    1   12   19   15    0    0    0     0       52              36.54\n    6    0    0    0    1    6   21    6    0    0     0       40              52.5\n    7    0    0    0    1    0    8   18    0    0     0       34              52.94\n    8    0    0    0    0    0    1   16    1    0     0       26               3.85\n    9    0    0    0    0    0    0    2    0    0     0       11               0\n   10    0    0    0    0    0    0    0    0    0     0       10               0\n=====  ===  ===  ===  ===  ===  ===  ===  ===  ===  ====  =======  =================\n\nK Neighbors (Stratified 10-fold Cross Validation Results)\n=====  ===  ===  ===  ===  ===  ===  ===  ===  ===  ====  =======  =================\n  MPG    1    2    3    4    5    6    7    8    9    10    Total    Recognition (%)\n=====  ===  ===  ===  ===  ===  ===  ===  ===  ===  ====  =======  =================\n    1   13    9    4    2    0    0    0    0    0     0       29              44.83\n    2    7    2    5    2    0    0    0    0    0     0       18              11.11\n    3    5    6   12    9    4    0    0    0    0     0       39              30.77\n    4    1    0    8   24   16    2    0    0    0     0       55              43.64\n    5    0    0    3   16   18    6    3    1    0     0       52              34.62\n    6    0    0    0    3   10   13    4    4    0     0       40              32.5\n    7    0    0    0    1    2    7    8    7    2     0       34              23.53\n    8    0    0    0    0    0    5    4    9    0     0       26              34.62\n    9    0    0    0    0    0    1    1    0    0     0       11               0\n   10    0    0    0    0    0    0    0    0    0     0       10               0\n=====  ===  ===  ===  ===  ===  ===  ===  ===  ===  ====  =======  =================\n"
     ]
    }
   ],
   "source": [
    "importlib.reload(jupyter_utils)\n",
    "print('\\n===========================================\\n\\\n",
    "STEP 5: Confusion Matrices\\n\\\n",
    "===========================================\\n')\n",
    "matrix = myevaluation.confusion_matrix(actual_linear_stratified, predicted_linear_stratified, [0,1,2,3,4,5,6,7,8,9,10])\n",
    "table_header = ['MPG', 1,2, 3 ,4, 5, 6, 7, 8, 9, 10, 'Total', 'Recognition (%)']\n",
    "jupyter_utils.add_conf_stats(matrix)\n",
    "\n",
    "print('Linear Regression (Stratified 10-fold Cross Validation Results)')\n",
    "jupyter_utils.print_tabulate(matrix, table_header)\n",
    "\n",
    "matrix = myevaluation.confusion_matrix(actual_neighbors_stratified, predicted_neighbors_stratified, [0,1,2,3,4,5,6,7,8,9,10])\n",
    "jupyter_utils.add_conf_stats(matrix)\n",
    "\n",
    "print('\\nK Neighbors (Stratified 10-fold Cross Validation Results)')\n",
    "jupyter_utils.print_tabulate(matrix, table_header)"
   ]
  },
  {
   "cell_type": "code",
   "execution_count": null,
   "metadata": {},
   "outputs": [],
   "source": []
  }
 ]
}